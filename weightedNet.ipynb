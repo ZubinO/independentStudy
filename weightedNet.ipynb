{
  "nbformat": 4,
  "nbformat_minor": 0,
  "metadata": {
    "colab": {
      "name": "weightedNet.ipynb",
      "provenance": [],
      "authorship_tag": "ABX9TyNpNaclyWyC6du+f3Mo9ZUi",
      "include_colab_link": true
    },
    "kernelspec": {
      "name": "python3",
      "display_name": "Python 3"
    },
    "language_info": {
      "name": "python"
    }
  },
  "cells": [
    {
      "cell_type": "markdown",
      "metadata": {
        "id": "view-in-github",
        "colab_type": "text"
      },
      "source": [
        "<a href=\"https://colab.research.google.com/github/ZubinO/independentStudy/blob/main/weightedNet.ipynb\" target=\"_parent\"><img src=\"https://colab.research.google.com/assets/colab-badge.svg\" alt=\"Open In Colab\"/></a>"
      ]
    },
    {
      "cell_type": "code",
      "execution_count": null,
      "metadata": {
        "id": "_SNqcHul5T3v",
        "colab": {
          "base_uri": "https://localhost:8080/"
        },
        "outputId": "46139614-d9d6-4294-9d32-f67583834255"
      },
      "outputs": [
        {
          "output_type": "stream",
          "name": "stdout",
          "text": [
            "Mounted at /content/gdrive\n"
          ]
        }
      ],
      "source": [
        "from google.colab import drive\n",
        "import io\n",
        "import pandas as pd\n",
        "import tensorflow as tf\n",
        "import random\n",
        "\n",
        "from sklearn.utils import shuffle\n",
        "from tensorflow.keras.preprocessing.text import Tokenizer\n",
        "from tensorflow.keras.preprocessing.sequence import pad_sequences\n",
        "import numpy as np\n",
        "\n",
        "drive.mount('/content/gdrive')\n"
      ]
    },
    {
      "cell_type": "code",
      "source": [
        "! gdown --id 18Pp1wG3SxPA24xg1eMvR7HIyRFC1S2P8\n",
        "\n",
        "\n",
        "df3 = pd.read_csv(('/content/weightedData.csv'), dtype={\"Weight\": float, \"Upvotes\": float, \"Comment\": float, \"UTC\": float, \"Team\": str, \"Opponent\": str, \"Winner\": str, \"UTC2\": float, \"Finally\": int})\n",
        "\n",
        "\n",
        "! gdown --id 18HZRfO5j4GnDD_J__1nfIM4VWPsIOqrd\n",
        "\n",
        "poW = pd.read_csv(('/content/playoffWeights3.csv'), dtype={\"Weight\": float, \"Title\":str, \"Body\":str, \"Upvotes\": float, \"Comment\": float, \"UTC\": float, \"Team\": str, \"Opponent\": str, \"Winner\": str, \"UTC2\": float, \"Finally\": int})\n"
      ],
      "metadata": {
        "colab": {
          "base_uri": "https://localhost:8080/"
        },
        "id": "W_i4EupI5bOi",
        "outputId": "87932031-fc9b-4f9e-900c-f1e084a7d952"
      },
      "execution_count": null,
      "outputs": [
        {
          "output_type": "stream",
          "name": "stdout",
          "text": [
            "/usr/local/lib/python3.7/dist-packages/gdown/cli.py:131: FutureWarning: Option `--id` was deprecated in version 4.3.1 and will be removed in 5.0. You don't need to pass it anymore to use a file ID.\n",
            "  category=FutureWarning,\n",
            "Downloading...\n",
            "From: https://drive.google.com/uc?id=18Pp1wG3SxPA24xg1eMvR7HIyRFC1S2P8\n",
            "To: /content/weightedData.csv\n",
            "100% 454k/454k [00:00<00:00, 102MB/s]\n",
            "/usr/local/lib/python3.7/dist-packages/gdown/cli.py:131: FutureWarning: Option `--id` was deprecated in version 4.3.1 and will be removed in 5.0. You don't need to pass it anymore to use a file ID.\n",
            "  category=FutureWarning,\n",
            "Downloading...\n",
            "From: https://drive.google.com/uc?id=18HZRfO5j4GnDD_J__1nfIM4VWPsIOqrd\n",
            "To: /content/playoffWeights3.csv\n",
            "100% 741k/741k [00:00<00:00, 124MB/s]\n"
          ]
        }
      ]
    },
    {
      "cell_type": "code",
      "source": [
        "def locDiffMatches(df):\n",
        "  toRet=[]\n",
        "  temp1=df.at[0, \"Opponent\"]\n",
        "  temp2=df.at[0, \"Team\"]\n",
        "  for i in range(0, len(df)):\n",
        "    if df.at[i, \"Opponent\"]!=temp1:\n",
        "      toRet.append(i)\n",
        "      #print(temp1)\n",
        "      temp1=df.at[i, \"Opponent\"]\n",
        "      #print(temp1)\n",
        "      temp2=df.at[i,\"Team\"]\n",
        "  return toRet\n",
        "weightedDf=df3[:6221]\n",
        "type(weightedDf)"
      ],
      "metadata": {
        "colab": {
          "base_uri": "https://localhost:8080/"
        },
        "id": "AeCIa78s6RPF",
        "outputId": "1c0fbbf9-8620-4a39-91bc-598f5a60426e"
      },
      "execution_count": null,
      "outputs": [
        {
          "output_type": "execute_result",
          "data": {
            "text/plain": [
              "pandas.core.frame.DataFrame"
            ]
          },
          "metadata": {},
          "execution_count": 95
        }
      ]
    },
    {
      "cell_type": "code",
      "source": [
        "def splitData(df):\n",
        "  matchLoc=locDiffMatches(df)\n",
        "  counter=0\n",
        "  toRet=[]\n",
        "  for j in matchLoc:\n",
        "    tempArr=[]\n",
        "    for i in range(counter, j):\n",
        "      weight=df.at[i, \"Weight\"]\n",
        "      upvotes=df.at[i, \"Upvotes\"]\n",
        "      #timePost=df.at[i, \"UTC2\"]\n",
        "      isComment=df.at[i, \"Comment\"]\n",
        "      temp2=[weight,upvotes,isComment]\n",
        "      tempArr.append(temp2)\n",
        "    toRet.append(tempArr)\n",
        "    counter=j+1\n",
        "  tempArr=[]\n",
        "  for i in range(matchLoc[len(matchLoc)-1], len(df)-1):\n",
        "    weight=df.at[i, \"Weight\"]\n",
        "    upvotes=df.at[i, \"Upvotes\"]\n",
        "    #timePost=df.at[i, \"UTC2\"]\n",
        "    isComment=df.at[i,\"Comment\"]\n",
        "    temp2=[weight,upvotes, isComment]\n",
        "    tempArr.append(temp2)\n",
        "  toRet.append(tempArr)\n",
        "  return toRet\n",
        "\n",
        "inputs=splitData(weightedDf)\n"
      ],
      "metadata": {
        "id": "oKmhMNWfx5Fs"
      },
      "execution_count": null,
      "outputs": []
    },
    {
      "cell_type": "code",
      "source": [
        "def findMaxLen(inputs):\n",
        "  maxLen=0\n",
        "  for i in inputs:\n",
        "    if len(i)>maxLen:\n",
        "      maxLen=len(i)\n",
        "  return maxLen\n",
        "\n",
        "max=findMaxLen(inputs)\n",
        "temp=inputs\n",
        "def padData(inputs):\n",
        "  bob=inputs\n",
        "  for i in bob:\n",
        "    while len(i)<max:\n",
        "      i.append([0,0,0])\n",
        "  return bob\n",
        "\n",
        "paddedInputs=padData(inputs)\n"
      ],
      "metadata": {
        "id": "g6RUSAJkK2OA"
      },
      "execution_count": null,
      "outputs": []
    },
    {
      "cell_type": "code",
      "source": [
        "def sumUpvotes(weightArr):\n",
        "  sum=0\n",
        "  for i in weightArr:\n",
        "    sum+=i[1]\n",
        "  return sum\n",
        "  \n",
        "def calcWeightedAverage(weightArr):\n",
        "  upvotes=sumUpvotes(weightArr)\n",
        "  total=0.0\n",
        "  for i in weightArr:\n",
        "    weight=float(i[1])/float(upvotes)\n",
        "    total+=float(i[0])*weight\n",
        "  return total\n",
        "\n"
      ],
      "metadata": {
        "id": "iJiQgpw-TVxF"
      },
      "execution_count": null,
      "outputs": []
    },
    {
      "cell_type": "code",
      "source": [
        ""
      ],
      "metadata": {
        "colab": {
          "base_uri": "https://localhost:8080/"
        },
        "id": "C2nAG2jq8S7M",
        "outputId": "6f978245-2d7b-488a-bbee-5d74ae654b82"
      },
      "execution_count": null,
      "outputs": [
        {
          "output_type": "execute_result",
          "data": {
            "text/plain": [
              "0.46899566324179115"
            ]
          },
          "metadata": {},
          "execution_count": 40
        }
      ]
    },
    {
      "cell_type": "code",
      "source": [
        "codeDict={\n",
        "    \"sea\":\"Seattle\",\n",
        "    \"ari\":\"Arizona\",\n",
        "    \"sf\": \"San Francisco\",\n",
        "    \"gb\": \"Green Bay\",\n",
        "    \"min\": \"Minnesota\",\n",
        "    \"det\": \"Detroit\",\n",
        "    \"chi\":\"Chicago\",\n",
        "    \"dal\":\"Dallas\",\n",
        "    \"wsh\": \"Washington\",\n",
        "    \"phi\": \"Philadelphia\",\n",
        "    \"tb\":\"Tampa Bay\",\n",
        "    \"car\":\"Carolina\",\n",
        "    \"no\": \"New Orleans\",\n",
        "    \"atl\":\"Atlanta\",\n",
        "    \"kc\":\"Kansas City\",\n",
        "    \"den\":\"Denver\",\n",
        "    \"lv\":\"Las Vegas\",\n",
        "    \"pit\":\"Pittsburgh\",\n",
        "    \"cin\":\"Cincinnati\",\n",
        "    \"bal\":\"Baltimore\",\n",
        "    \"cle\":\"Cleveland\",\n",
        "    \"jax\":\"Jacksonville\",\n",
        "    \"ten\":\"Tennessee\",\n",
        "    \"hou\":\"Houston\",\n",
        "    \"ind\":\"Indianapolis\",\n",
        "    \"ne\":\"New England\",\n",
        "    \"buf\":\"Buffalo\",\n",
        "    \"mia\":\"Miami\"\n",
        "\n",
        "\n",
        "}\n",
        "\n",
        "teamDict={\n",
        "    \"Seattle\":[\"seahawks\", \"hawks\"],\n",
        "    \"Arizona\":[\"cardinals\", \"cards\"],\n",
        "    \"San Francisco\": [\"49ers\", \"9ers\"],\n",
        "    \"Green Bay\": [\"packers\"],\n",
        "    \"Minnesota\": [\"vikings\", \"vikes\"],\n",
        "    \"Detroit\": [\"lions\"],\n",
        "    \"Chicago\":[\"bears\"],\n",
        "    \"Dallas\":[\"cowboys\"],\n",
        "    \"Washington\": [\"redskins\", \"football team\"],\n",
        "    \"Philadelphia\": [\"eagles\", \"birds\"],\n",
        "    \"Tampa Bay\":[\"buccaneers\", \"bucs\"],\n",
        "    \"Carolina\":[\"panthers\"],\n",
        "    \"New Orleans\": [\"saints\", \"nola\"],\n",
        "    \"Atlanta\":[\"falcons\"],\n",
        "    \"Kansas City\":[\"chiefs\"],\n",
        "    \"Denver\":[\"broncos\"],\n",
        "    \"Las Vegas\":[\"raiders\"],\n",
        "    \"Pittsburgh\":[\"steelers\"],\n",
        "    \"Cincinnati\":[\"bengals\"],\n",
        "    \"Baltimore\":[\"ravens\"],\n",
        "    \"Cleveland\":[\"browns\"],\n",
        "    \"Jacksonville\":[\"jaguars\", \"jags\"],\n",
        "    \"Tennessee\":[\"titans\"],\n",
        "    \"Houston\":[\"texans\"],\n",
        "    \"Indianapolis\":[\"colts\"],\n",
        "    \"New England\":[\"patriots\", \"pats\"],\n",
        "    \"Buffalo\":[\"bills\"],\n",
        "    \"Miami\":[\"dolphins\"]\n",
        "\n",
        "\n",
        "}\n"
      ],
      "metadata": {
        "id": "zylyJfBbZ7Ks"
      },
      "execution_count": null,
      "outputs": []
    },
    {
      "cell_type": "code",
      "source": [
        "def createLabels(df):\n",
        "  labels=[]\n",
        "  label=-1\n",
        "  winner=df.at[0, \"Winner\"]\n",
        "  opponent=df.at[0, \"Opponent\"]\n",
        "  team=df.at[0, \"Team\"]\n",
        "  if winner.lower()==opponent.lower():\n",
        "    label=0\n",
        "  elif codeDict[winner]==team:\n",
        "    label=1\n",
        "  labels.append(label)\n",
        "  for i in locDiffMatches(weightedDf):\n",
        "    label=-1\n",
        "    winner=df.at[i, \"Winner\"]\n",
        "    opponent=df.at[i, \"Opponent\"]\n",
        "    team=df.at[i, \"Team\"]\n",
        "    if winner.lower()==opponent.lower():\n",
        "      label=0\n",
        "    elif codeDict[winner]==team:\n",
        "      label=1\n",
        "    labels.append(label)\n",
        "  return labels\n",
        "\n",
        "labels=createLabels(weightedDf)\n"
      ],
      "metadata": {
        "id": "qKVBqNidOPIv"
      },
      "execution_count": null,
      "outputs": []
    },
    {
      "cell_type": "code",
      "source": [
        "total=0\n",
        "for i in range(0,len(inputs)-1):\n",
        "  res=calcWeightedAverage(inputs[i])*2\n",
        "  res=int(res)\n",
        "  if res == labels[i]:\n",
        "    total+=1\n",
        "\n",
        "total/len(labels)"
      ],
      "metadata": {
        "colab": {
          "base_uri": "https://localhost:8080/"
        },
        "id": "vbtXGxxP89gF",
        "outputId": "014296d6-311f-4582-a772-1f7804127145"
      },
      "execution_count": null,
      "outputs": [
        {
          "output_type": "execute_result",
          "data": {
            "text/plain": [
              "0.5303030303030303"
            ]
          },
          "metadata": {},
          "execution_count": 101
        }
      ]
    },
    {
      "cell_type": "code",
      "source": [
        "size=35\n",
        "xTrain = paddedInputs[0:size]\n",
        "xTest = paddedInputs[size:]\n",
        "yTrain = labels[0:size]\n",
        "yTest = labels[size:]\n",
        "\n",
        "xTrain = np.array(xTrain)\n",
        "yTrain = np.array(yTrain)\n",
        "xTest = np.array(xTest)\n",
        "yTest = np.array(yTest)\n",
        "\n",
        "#xTrain.append(fTest)\n",
        "\n",
        "xTrain.shape[1:]\n",
        "\n"
      ],
      "metadata": {
        "colab": {
          "base_uri": "https://localhost:8080/"
        },
        "id": "GVG7q9Xcc1qj",
        "outputId": "baff6eb0-84ab-49c0-c79c-e260ce54d90b"
      },
      "execution_count": null,
      "outputs": [
        {
          "output_type": "execute_result",
          "data": {
            "text/plain": [
              "(369, 3)"
            ]
          },
          "metadata": {},
          "execution_count": 103
        }
      ]
    },
    {
      "cell_type": "code",
      "source": [
        "model = tf.keras.Sequential([\n",
        "    #tf.keras.layers.Bidirectional(tf.keras.layers.LSTM(64, input_shape=(xTrain.shape[1:]))),\n",
        "    #tf.keras.layers.Dropout(0.8),\n",
        "    tf.keras.layers.GlobalAveragePooling1D(),\n",
        "    tf.keras.layers.Dropout(0.8), \n",
        "    tf.keras.layers.Dense(24, activation='relu'),\n",
        "    tf.keras.layers.Dropout(0.8), \n",
        "    tf.keras.layers.Dense(1, activation='sigmoid')\n",
        "])\n",
        "model.compile(loss='binary_crossentropy',optimizer='adam',metrics=['accuracy'])\n"
      ],
      "metadata": {
        "id": "iYGAkV3nfhVS"
      },
      "execution_count": null,
      "outputs": []
    },
    {
      "cell_type": "code",
      "source": [
        "history = model.fit(xTrain, yTrain, epochs=30, validation_data=(xTest, yTest), verbose=2)"
      ],
      "metadata": {
        "colab": {
          "base_uri": "https://localhost:8080/"
        },
        "id": "6nMUz4cRyYMc",
        "outputId": "ef81a4c6-ca5a-43b7-f107-b33b09938fdc"
      },
      "execution_count": null,
      "outputs": [
        {
          "output_type": "stream",
          "name": "stdout",
          "text": [
            "Epoch 1/30\n",
            "2/2 - 1s - loss: 0.7685 - accuracy: 0.5714 - val_loss: 1.1261 - val_accuracy: 0.6452 - 714ms/epoch - 357ms/step\n",
            "Epoch 2/30\n",
            "2/2 - 0s - loss: 1.8064 - accuracy: 0.6286 - val_loss: 1.1175 - val_accuracy: 0.7097 - 35ms/epoch - 18ms/step\n",
            "Epoch 3/30\n",
            "2/2 - 0s - loss: 3.8441 - accuracy: 0.4857 - val_loss: 1.1069 - val_accuracy: 0.6774 - 34ms/epoch - 17ms/step\n",
            "Epoch 4/30\n",
            "2/2 - 0s - loss: 3.6147 - accuracy: 0.4857 - val_loss: 1.0961 - val_accuracy: 0.6774 - 39ms/epoch - 20ms/step\n",
            "Epoch 5/30\n",
            "2/2 - 0s - loss: 1.5161 - accuracy: 0.5143 - val_loss: 1.0843 - val_accuracy: 0.6774 - 31ms/epoch - 16ms/step\n",
            "Epoch 6/30\n",
            "2/2 - 0s - loss: 0.8688 - accuracy: 0.5143 - val_loss: 1.0744 - val_accuracy: 0.6774 - 36ms/epoch - 18ms/step\n",
            "Epoch 7/30\n",
            "2/2 - 0s - loss: 0.8590 - accuracy: 0.6857 - val_loss: 1.0663 - val_accuracy: 0.6774 - 34ms/epoch - 17ms/step\n",
            "Epoch 8/30\n",
            "2/2 - 0s - loss: 0.6863 - accuracy: 0.6000 - val_loss: 1.0595 - val_accuracy: 0.6774 - 33ms/epoch - 17ms/step\n",
            "Epoch 9/30\n",
            "2/2 - 0s - loss: 1.0856 - accuracy: 0.4857 - val_loss: 1.0539 - val_accuracy: 0.6774 - 33ms/epoch - 16ms/step\n",
            "Epoch 10/30\n",
            "2/2 - 0s - loss: 2.7206 - accuracy: 0.4857 - val_loss: 1.0474 - val_accuracy: 0.6774 - 44ms/epoch - 22ms/step\n",
            "Epoch 11/30\n",
            "2/2 - 0s - loss: 0.7487 - accuracy: 0.5429 - val_loss: 1.0413 - val_accuracy: 0.6774 - 51ms/epoch - 26ms/step\n",
            "Epoch 12/30\n",
            "2/2 - 0s - loss: 1.4132 - accuracy: 0.5429 - val_loss: 1.0367 - val_accuracy: 0.6774 - 89ms/epoch - 44ms/step\n",
            "Epoch 13/30\n",
            "2/2 - 0s - loss: 0.7371 - accuracy: 0.5429 - val_loss: 1.0329 - val_accuracy: 0.6774 - 92ms/epoch - 46ms/step\n",
            "Epoch 14/30\n",
            "2/2 - 0s - loss: 2.3951 - accuracy: 0.5429 - val_loss: 1.0290 - val_accuracy: 0.6774 - 52ms/epoch - 26ms/step\n",
            "Epoch 15/30\n",
            "2/2 - 0s - loss: 1.5833 - accuracy: 0.5143 - val_loss: 1.0238 - val_accuracy: 0.6774 - 69ms/epoch - 34ms/step\n",
            "Epoch 16/30\n",
            "2/2 - 0s - loss: 1.8509 - accuracy: 0.6571 - val_loss: 1.0208 - val_accuracy: 0.6774 - 51ms/epoch - 26ms/step\n",
            "Epoch 17/30\n",
            "2/2 - 0s - loss: 1.8652 - accuracy: 0.5714 - val_loss: 1.0168 - val_accuracy: 0.6774 - 58ms/epoch - 29ms/step\n",
            "Epoch 18/30\n",
            "2/2 - 0s - loss: 2.7054 - accuracy: 0.5714 - val_loss: 1.0122 - val_accuracy: 0.6774 - 90ms/epoch - 45ms/step\n",
            "Epoch 19/30\n",
            "2/2 - 0s - loss: 2.5572 - accuracy: 0.5429 - val_loss: 1.0072 - val_accuracy: 0.6774 - 52ms/epoch - 26ms/step\n",
            "Epoch 20/30\n",
            "2/2 - 0s - loss: 3.1024 - accuracy: 0.5429 - val_loss: 1.0038 - val_accuracy: 0.6774 - 76ms/epoch - 38ms/step\n",
            "Epoch 21/30\n",
            "2/2 - 0s - loss: 0.7208 - accuracy: 0.4571 - val_loss: 1.0007 - val_accuracy: 0.6774 - 63ms/epoch - 32ms/step\n",
            "Epoch 22/30\n",
            "2/2 - 0s - loss: 2.9077 - accuracy: 0.4571 - val_loss: 0.9975 - val_accuracy: 0.6774 - 71ms/epoch - 36ms/step\n",
            "Epoch 23/30\n",
            "2/2 - 0s - loss: 1.8854 - accuracy: 0.5714 - val_loss: 0.9905 - val_accuracy: 0.6774 - 51ms/epoch - 25ms/step\n",
            "Epoch 24/30\n",
            "2/2 - 0s - loss: 1.6523 - accuracy: 0.5143 - val_loss: 0.9828 - val_accuracy: 0.6452 - 78ms/epoch - 39ms/step\n",
            "Epoch 25/30\n",
            "2/2 - 0s - loss: 1.5020 - accuracy: 0.7143 - val_loss: 0.9762 - val_accuracy: 0.6452 - 124ms/epoch - 62ms/step\n",
            "Epoch 26/30\n",
            "2/2 - 0s - loss: 4.6264 - accuracy: 0.7143 - val_loss: 0.9691 - val_accuracy: 0.6452 - 67ms/epoch - 33ms/step\n",
            "Epoch 27/30\n",
            "2/2 - 0s - loss: 0.8312 - accuracy: 0.5714 - val_loss: 0.9630 - val_accuracy: 0.6452 - 61ms/epoch - 31ms/step\n",
            "Epoch 28/30\n",
            "2/2 - 0s - loss: 1.1052 - accuracy: 0.5714 - val_loss: 0.9576 - val_accuracy: 0.6452 - 64ms/epoch - 32ms/step\n",
            "Epoch 29/30\n",
            "2/2 - 0s - loss: 1.7394 - accuracy: 0.4857 - val_loss: 0.9520 - val_accuracy: 0.6452 - 148ms/epoch - 74ms/step\n",
            "Epoch 30/30\n",
            "2/2 - 0s - loss: 0.6979 - accuracy: 0.6571 - val_loss: 0.9475 - val_accuracy: 0.6129 - 51ms/epoch - 25ms/step\n"
          ]
        }
      ]
    },
    {
      "cell_type": "code",
      "source": [
        "import matplotlib.pyplot as plt\n",
        "\n",
        "\n",
        "def plot_graphs(history, string):\n",
        "  plt.plot(history.history[string])\n",
        "  plt.plot(history.history['val_'+string])\n",
        "  \n",
        "  plt.xlabel(\"Epochs\")\n",
        "  plt.ylabel(string)\n",
        "  plt.legend([string, 'val_'+string])\n",
        "  plt.show()\n",
        "  \n",
        "plot_graphs(history, \"accuracy\")\n",
        "plot_graphs(history, \"loss\")"
      ],
      "metadata": {
        "colab": {
          "base_uri": "https://localhost:8080/",
          "height": 541
        },
        "id": "Em-qwlY11ZeF",
        "outputId": "d9b09938-6066-462c-a3d0-23693b01daca"
      },
      "execution_count": null,
      "outputs": [
        {
          "output_type": "display_data",
          "data": {
            "text/plain": [
              "<Figure size 432x288 with 1 Axes>"
            ],
            "image/png": "[encoded data removed]"
          },
          "metadata": {
            "needs_background": "light"
          }
        },
        {
          "output_type": "display_data",
          "data": {
            "text/plain": [
              "<Figure size 432x288 with 1 Axes>"
            ],
            "image/png": "[encoded data removed]"
          },
          "metadata": {
            "needs_background": "light"
          }
        }
      ]
    }
  ]
}