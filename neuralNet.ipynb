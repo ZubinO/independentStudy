{
  "cells": [
    {
      "cell_type": "markdown",
      "metadata": {
        "id": "view-in-github",
        "colab_type": "text"
      },
      "source": [
        "<a href=\"https://colab.research.google.com/github/ZubinO/independentStudy/blob/main/neuralNet.ipynb\" target=\"_parent\"><img src=\"https://colab.research.google.com/assets/colab-badge.svg\" alt=\"Open In Colab\"/></a>"
      ]
    },
    {
      "cell_type": "code",
      "execution_count": null,
      "metadata": {
        "colab": {
          "base_uri": "https://localhost:8080/"
        },
        "id": "xnJeiBYVSItl",
        "outputId": "268850f9-bbba-4932-f717-011683833078"
      },
      "outputs": [
        {
          "output_type": "stream",
          "name": "stdout",
          "text": [
            "Mounted at /content/gdrive\n"
          ]
        }
      ],
      "source": [
        "from google.colab import drive\n",
        "drive.mount('/content/gdrive')\n"
      ]
    },
    {
      "cell_type": "code",
      "execution_count": null,
      "metadata": {
        "colab": {
          "base_uri": "https://localhost:8080/"
        },
        "id": "PLC7Sb-0bQMo",
        "outputId": "96c37372-8848-4532-d0e8-ade80572b965"
      },
      "outputs": [
        {
          "output_type": "stream",
          "name": "stdout",
          "text": [
            "/usr/local/lib/python3.7/dist-packages/gdown/cli.py:131: FutureWarning: Option `--id` was deprecated in version 4.3.1 and will be removed in 5.0. You don't need to pass it anymore to use a file ID.\n",
            "  category=FutureWarning,\n",
            "Downloading...\n",
            "From: https://drive.google.com/uc?id=1ykAMtHPmjXJpxjtYhZ5wb9kgcIl88DHH\n",
            "To: /content/glove.twitter.27B.100d.txt\n",
            "100% 1.02G/1.02G [00:05<00:00, 192MB/s]\n",
            "/usr/local/lib/python3.7/dist-packages/gdown/cli.py:131: FutureWarning: Option `--id` was deprecated in version 4.3.1 and will be removed in 5.0. You don't need to pass it anymore to use a file ID.\n",
            "  category=FutureWarning,\n",
            "Downloading...\n",
            "From: https://drive.google.com/uc?id=1I28SOj3Jd8JsR3op-xDBP5eU9cF-igL0\n",
            "To: /content/reddit2-utf.csv\n",
            "100% 139M/139M [00:00<00:00, 252MB/s]\n",
            "/usr/local/lib/python3.7/dist-packages/gdown/cli.py:131: FutureWarning: Option `--id` was deprecated in version 4.3.1 and will be removed in 5.0. You don't need to pass it anymore to use a file ID.\n",
            "  category=FutureWarning,\n",
            "Downloading...\n",
            "From: https://drive.google.com/uc?id=1OM5W75Z-vJ-H5eLljNoGAMMf80HfZrkh\n",
            "To: /content/newReddit.csv\n",
            "100% 139M/139M [00:00<00:00, 185MB/s]\n",
            "/usr/local/lib/python3.7/dist-packages/gdown/cli.py:131: FutureWarning: Option `--id` was deprecated in version 4.3.1 and will be removed in 5.0. You don't need to pass it anymore to use a file ID.\n",
            "  category=FutureWarning,\n",
            "Downloading...\n",
            "From: https://drive.google.com/uc?id=16CHuSMK9VpvLJq7ATnENB-tZz81SymxX\n",
            "To: /content/playoffPred4.csv\n",
            "100% 5.23M/5.23M [00:00<00:00, 97.6MB/s]\n"
          ]
        }
      ],
      "source": [
        "! gdown --id 1ykAMtHPmjXJpxjtYhZ5wb9kgcIl88DHH\n",
        "\n",
        "! gdown --id 1I28SOj3Jd8JsR3op-xDBP5eU9cF-igL0\n",
        "\n",
        "! gdown --id 1OM5W75Z-vJ-H5eLljNoGAMMf80HfZrkh\n",
        "\n",
        "!gdown --id 16CHuSMK9VpvLJq7ATnENB-tZz81SymxX"
      ]
    },
    {
      "cell_type": "code",
      "execution_count": null,
      "metadata": {
        "id": "-lE1zteiEUeL"
      },
      "outputs": [],
      "source": [
        "import io\n",
        "import pandas as pd\n",
        "df2 = pd.read_csv(('/content/newReddit.csv'), dtype={\"Title\": str, \"Body\": str, \"Upvotes\": float, \"Created\": float, \"Team\": str, \"Opponent\": str, \"Winner\": str})\n",
        "#playoffDf = pd.read_csv(('/content/playoffPred2.csv'), dtype={\"Title\": str, \"Body\": str, \"Upvotes\": float, \"Created\": float, \"Team\": str, \"Opponent\": str, \"Winner\": str})\n"
      ]
    },
    {
      "cell_type": "code",
      "execution_count": null,
      "metadata": {
        "id": "WtkX1vYKEZEy"
      },
      "outputs": [],
      "source": [
        "codeDict={\n",
        "    \"sea\":\"Seattle\",\n",
        "    \"ari\":\"Arizona\",\n",
        "    \"lar\": \"Los Angeles\",\n",
        "    \"sf\": \"San Francisco\",\n",
        "    \"gb\": \"Green Bay\",\n",
        "    \"min\": \"Minnesota\",\n",
        "    \"det\": \"Detroit\",\n",
        "    \"chi\":\"Chicago\",\n",
        "    \"dal\":\"Dallas\",\n",
        "    \"wsh\": \"Washington\",\n",
        "    \"phi\": \"Philadelphia\",\n",
        "    \"tb\":\"Tampa Bay\",\n",
        "    \"car\":\"Carolina\",\n",
        "    \"no\": \"New Orleans\",\n",
        "    \"atl\":\"Atlanta\",\n",
        "    \"kc\":\"Kansas City\",\n",
        "    \"den\":\"Denver\",\n",
        "    \"lv\":\"Las Vegas\",\n",
        "    \"pit\":\"Pittsburgh\",\n",
        "    \"cin\":\"Cincinnati\",\n",
        "    \"bal\":\"Baltimore\",\n",
        "    \"cle\":\"Cleveland\",\n",
        "    \"jax\":\"Jacksonville\",\n",
        "    \"ten\":\"Tennessee\",\n",
        "    \"hou\":\"Houston\",\n",
        "    \"ind\":\"Indianapolis\",\n",
        "    \"ne\":\"New England\",\n",
        "    \"buf\":\"Buffalo\",\n",
        "    \"mia\":\"Miami\"\n",
        "\n",
        "\n",
        "}\n",
        "\n",
        "teamDict={\n",
        "    \"Seattle\":[\"seahawks\", \"hawks\"],\n",
        "    \"Arizona\":[\"cardinals\", \"cards\"],\n",
        "    \"San Francisco\": [\"49ers\", \"9ers\"],\n",
        "    \"Los Angeles\": [\"rams\"],\n",
        "    \"Green Bay\": [\"packers\"],\n",
        "    \"Minnesota\": [\"vikings\", \"vikes\"],\n",
        "    \"Detroit\": [\"lions\"],\n",
        "    \"Chicago\":[\"bears\"],\n",
        "    \"Dallas\":[\"cowboys\"],\n",
        "    \"Washington\": [\"redskins\", \"football team\"],\n",
        "    \"Philadelphia\": [\"eagles\", \"birds\"],\n",
        "    \"Tampa Bay\":[\"buccaneers\", \"bucs\"],\n",
        "    \"Carolina\":[\"panthers\"],\n",
        "    \"New Orleans\": [\"saints\", \"nola\"],\n",
        "    \"Atlanta\":[\"falcons\"],\n",
        "    \"Kansas City\":[\"chiefs\"],\n",
        "    \"Denver\":[\"broncos\"],\n",
        "    \"Las Vegas\":[\"raiders\"],\n",
        "    \"Pittsburgh\":[\"steelers\"],\n",
        "    \"Cincinnati\":[\"bengals\"],\n",
        "    \"Baltimore\":[\"ravens\"],\n",
        "    \"Cleveland\":[\"browns\"],\n",
        "    \"Jacksonville\":[\"jaguars\", \"jags\"],\n",
        "    \"Tennessee\":[\"titans\"],\n",
        "    \"Houston\":[\"texans\"],\n",
        "    \"Indianapolis\":[\"colts\"],\n",
        "    \"New England\":[\"patriots\", \"pats\"],\n",
        "    \"Buffalo\":[\"bills\"],\n",
        "    \"Miami\":[\"dolphins\"]\n",
        "\n",
        "\n",
        "}\n"
      ]
    },
    {
      "cell_type": "code",
      "execution_count": null,
      "metadata": {
        "id": "SSwKpfZTEeDU"
      },
      "outputs": [],
      "source": [
        "def removeMisc(df):\n",
        "  toReturn=pd.DataFrame(columns=[\"Title\", \"Body\", \"Upvotes\", \"isComment\", \"Created\", \"Team\", \"Opponent\", \"Winner\"])\n",
        "  for i in range(0, len(df)-1):\n",
        "    try:\n",
        "      opp=df.at[i, \"Opponent\"]\n",
        "      if \"*\" in opp:\n",
        "        opp=opp[:-2]\n",
        "      oppNames=[]\n",
        "      for name in teamDict[opp]:\n",
        "        oppNames.append(name)\n",
        "      oppNames.append(opp)\n",
        "      testBool=False\n",
        "      for j in oppNames:\n",
        "        #print(\"hi\")\n",
        "        ##have to get rid of empty strings\n",
        "        if len(str(df.at[i,\"Title\"]))>1:\n",
        "          if str(j).lower() in str(df.at[i, \"Title\"]).lower():\n",
        "            if(int(df.at[i,\"Upvotes\"])>0):\n",
        "              testBool=True\n",
        "          if len(str(df.at[i, \"Body\"]))>1:\n",
        "            if j.lower() in str(df.at[i, \"Body\"]).lower():\n",
        "              if(int(df.at[i,\"Upvotes\"])>0):\n",
        "                testBool=True\n",
        "      if testBool:\n",
        "        toReturn=toReturn.append(df[i:i+1])\n",
        "    except:\n",
        "      pass\n",
        "  return toReturn\n",
        "#cleaned=removeMisc(df2)\n",
        "cleaned=cleaned.reset_index()\n"
      ]
    },
    {
      "cell_type": "code",
      "execution_count": null,
      "metadata": {
        "id": "CT4GT97AE8EV"
      },
      "outputs": [],
      "source": [
        "def createLabels(df):\n",
        "  labels=[]\n",
        "  for i in range(0, len(df)-1):\n",
        "    label=-1\n",
        "    winner=df.at[i, \"Winner\"]\n",
        "    opponent=df.at[i, \"Opponent\"]\n",
        "    team=df.at[i, \"Team\"]\n",
        "    if winner.lower()==opponent.lower():\n",
        "      label=0\n",
        "    elif codeDict[winner]==team:\n",
        "      label=1\n",
        "    labels.append(label)\n",
        "  return labels\n",
        "\n",
        "#labels=createLabels(cleaned)"
      ]
    },
    {
      "cell_type": "code",
      "execution_count": null,
      "metadata": {
        "id": "ydaYqjP2JGwF"
      },
      "outputs": [],
      "source": [
        "def createInputData(df):\n",
        "  inputData=[]\n",
        "  for i in range(0, len(df)-1):\n",
        "    text=\"\"\n",
        "    header=str(df.at[i, \"Title\"]).replace(\"\\n\\n\", \" \")\n",
        "    bodyText=str(df.at[i, \"Body\"]).replace(\"\\n\\n\", \" \")\n",
        "    text = str(header) + \" \" + str(bodyText)\n",
        "    inputData.append(text)\n",
        "  return inputData\n",
        "\n",
        "#inputs=createInputData(cleaned)"
      ]
    },
    {
      "cell_type": "code",
      "execution_count": null,
      "metadata": {
        "id": "B6pcZv7YKSW7"
      },
      "outputs": [],
      "source": [
        "import tensorflow as tf\n",
        "import random\n",
        "\n",
        "from sklearn.utils import shuffle\n",
        "from tensorflow.keras.preprocessing.text import Tokenizer\n",
        "from tensorflow.keras.preprocessing.sequence import pad_sequences"
      ]
    },
    {
      "cell_type": "code",
      "execution_count": null,
      "metadata": {
        "colab": {
          "base_uri": "https://localhost:8080/"
        },
        "id": "FmHkNDo7LsEU",
        "outputId": "92aab173-c7f0-4320-a1db-32db5ab600df"
      },
      "outputs": [
        {
          "output_type": "execute_result",
          "data": {
            "text/plain": [
              "5668"
            ]
          },
          "metadata": {},
          "execution_count": 9
        }
      ],
      "source": [
        "def findMaxLen(inputs):\n",
        "  maxLen=0\n",
        "  for i in inputs:\n",
        "    text=i.split()\n",
        "    if len(text)>maxLen:\n",
        "      maxLen=len(text)\n",
        "  return maxLen\n",
        "\n",
        "findMaxLen(inputs)\n",
        "  "
      ]
    },
    {
      "cell_type": "code",
      "execution_count": null,
      "metadata": {
        "colab": {
          "base_uri": "https://localhost:8080/"
        },
        "id": "RNOXduhhMbft",
        "outputId": "819881ae-4047-482f-d210-c2026461ac1c"
      },
      "outputs": [
        {
          "output_type": "execute_result",
          "data": {
            "text/plain": [
              "24889"
            ]
          },
          "metadata": {},
          "execution_count": 10
        }
      ],
      "source": [
        "\n",
        "vocab_size = 29205\n",
        "EMBEDDING_DIM = 100\n",
        "max_length = 2000\n",
        "trunc_type='post'\n",
        "padding_type='post'\n",
        "oov_tok = \"<OOV>\"\n",
        "training_size = int(len(inputs)*.6)\n",
        "training_size\n",
        "\n",
        "#labels, inputs = shuffle(labels, inputs, random_state=0)\n"
      ]
    },
    {
      "cell_type": "code",
      "execution_count": null,
      "metadata": {
        "id": "z6SOtGUsMj-8"
      },
      "outputs": [],
      "source": [
        "training_sentences = inputs[0:training_size]\n",
        "testing_sentences = inputs[training_size:]\n",
        "training_labels = labels[0:training_size]\n",
        "testing_labels = labels[training_size:]\n",
        "\n",
        "tokenizer = Tokenizer(num_words=vocab_size, oov_token=oov_tok)\n",
        "tokenizer.fit_on_texts(training_sentences)\n",
        "\n",
        "word_index = tokenizer.word_index\n",
        "\n",
        "training_sequences = tokenizer.texts_to_sequences(training_sentences)\n",
        "training_padded = pad_sequences(training_sequences, maxlen=max_length, padding=padding_type, truncating=trunc_type)\n",
        "\n",
        "testing_sequences = tokenizer.texts_to_sequences(testing_sentences)\n",
        "testing_padded = pad_sequences(testing_sequences, maxlen=max_length, padding=padding_type, truncating=trunc_type)"
      ]
    },
    {
      "cell_type": "code",
      "execution_count": null,
      "metadata": {
        "id": "mrBLf_Gn4oiz"
      },
      "outputs": [],
      "source": [
        ""
      ]
    },
    {
      "cell_type": "code",
      "execution_count": null,
      "metadata": {
        "id": "glQvpXtAQD8q"
      },
      "outputs": [],
      "source": [
        "# Need this block to get it to work with TensorFlow 2.x\n",
        "import numpy as np\n",
        "training_padded = np.array(training_padded)\n",
        "training_labels = np.array(training_labels)\n",
        "testing_padded = np.array(testing_padded)\n",
        "testing_labels = np.array(testing_labels)"
      ]
    },
    {
      "cell_type": "code",
      "execution_count": null,
      "metadata": {
        "colab": {
          "base_uri": "https://localhost:8080/"
        },
        "id": "pnsdHrUcT_VJ",
        "outputId": "424b41ba-6fd9-455b-de8d-9581a4823f57"
      },
      "outputs": [
        {
          "output_type": "stream",
          "name": "stdout",
          "text": [
            "Found 1193514 word vectors.\n"
          ]
        }
      ],
      "source": [
        "embeddings_index = {}\n",
        "f = open('/content/glove.twitter.27B.100d.txt')\n",
        "for line in f:\n",
        "    values = line.split()\n",
        "    word = values[0]\n",
        "    coefs = np.asarray(values[1:], dtype='float32')\n",
        "    embeddings_index[word] = coefs\n",
        "f.close()\n",
        "\n",
        "print('Found %s word vectors.' % len(embeddings_index))\n"
      ]
    },
    {
      "cell_type": "code",
      "execution_count": null,
      "metadata": {
        "id": "F59mxAxd0e0Z"
      },
      "outputs": [],
      "source": [
        "embedding_matrix = np.zeros((len(word_index) + 1, EMBEDDING_DIM))\n",
        "for word, i in word_index.items():\n",
        "    embedding_vector = embeddings_index.get(word)\n",
        "    if embedding_vector is not None:\n",
        "        # words not found in embedding index will be all-zeros.\n",
        "        embedding_matrix[i] = embedding_vector\n"
      ]
    },
    {
      "cell_type": "code",
      "execution_count": null,
      "metadata": {
        "id": "pvE4H1Ar1O9a"
      },
      "outputs": [],
      "source": [
        "from keras.layers import Embedding\n",
        "\n",
        "embedding_layer = Embedding(vocab_size,\n",
        "                            EMBEDDING_DIM,\n",
        "                            weights=[embedding_matrix],\n",
        "                            input_length=max_length,\n",
        "                            trainable=False)\n"
      ]
    },
    {
      "cell_type": "code",
      "execution_count": null,
      "metadata": {
        "id": "LdLvi0CmQIoE"
      },
      "outputs": [],
      "source": [
        "model = tf.keras.Sequential([\n",
        "    embedding_layer,\n",
        "    #tf.keras.layers.Bidirectional(tf.keras.layers.LSTM(128, input_shape=(testing_padded.shape[1:]), return_sequences=True)),\n",
        "    #tf.keras.layers.Dropout(0.8),\n",
        "    tf.keras.layers.Bidirectional(tf.keras.layers.LSTM(64, input_shape=(testing_padded.shape[1:]))),\n",
        "    tf.keras.layers.Dropout(0.8),\n",
        "    tf.keras.layers.Dense(24, activation='relu'),\n",
        "    tf.keras.layers.Dropout(0.8),\n",
        "    tf.keras.layers.Dense(1, activation='sigmoid')\n",
        "])\n",
        "model.compile(loss='binary_crossentropy',optimizer='adam',metrics=['accuracy'])\n"
      ]
    },
    {
      "cell_type": "code",
      "execution_count": null,
      "metadata": {
        "colab": {
          "base_uri": "https://localhost:8080/"
        },
        "id": "mrmzXP_wQZYB",
        "outputId": "e714f8da-50d2-41aa-836e-056eb4564ab8"
      },
      "outputs": [
        {
          "output_type": "stream",
          "name": "stdout",
          "text": [
            "Epoch 1/5\n",
            "778/778 - 1500s - loss: 0.7008 - accuracy: 0.5006 - val_loss: 0.6928 - val_accuracy: 0.5200 - 1500s/epoch - 2s/step\n",
            "Epoch 2/5\n",
            "778/778 - 1489s - loss: 0.6924 - accuracy: 0.5106 - val_loss: 0.6941 - val_accuracy: 0.5099 - 1489s/epoch - 2s/step\n",
            "Epoch 3/5\n",
            "778/778 - 1487s - loss: 0.6833 - accuracy: 0.5330 - val_loss: 0.6938 - val_accuracy: 0.5221 - 1487s/epoch - 2s/step\n",
            "Epoch 4/5\n",
            "778/778 - 1488s - loss: 0.6706 - accuracy: 0.5587 - val_loss: 0.6942 - val_accuracy: 0.5205 - 1488s/epoch - 2s/step\n",
            "Epoch 5/5\n",
            "778/778 - 1489s - loss: 0.6585 - accuracy: 0.5828 - val_loss: 0.7188 - val_accuracy: 0.5271 - 1489s/epoch - 2s/step\n"
          ]
        }
      ],
      "source": [
        "num_epochs = 5\n",
        "history = model.fit(training_padded, training_labels, epochs=num_epochs, validation_data=(testing_padded, testing_labels), verbose=2)"
      ]
    },
    {
      "cell_type": "code",
      "execution_count": null,
      "metadata": {
        "colab": {
          "base_uri": "https://localhost:8080/",
          "height": 541
        },
        "id": "C50bCQrGRRf5",
        "outputId": "90b81086-889f-4211-e866-3e1f8f42fc11"
      },
      "outputs": [
        {
          "output_type": "display_data",
          "data": {
            "text/plain": [
              "<Figure size 432x288 with 1 Axes>"
            ],
            "image/png": "[encoded data removed]"
          },
          "metadata": {
            "needs_background": "light"
          }
        },
        {
          "output_type": "display_data",
          "data": {
            "text/plain": [
              "<Figure size 432x288 with 1 Axes>"
            ],
            "image/png": "[encoded data removed]"
          },
          "metadata": {
            "needs_background": "light"
          }
        }
      ],
      "source": [
        "import matplotlib.pyplot as plt\n",
        "\n",
        "\n",
        "def plot_graphs(history, string):\n",
        "  plt.plot(history.history[string])\n",
        "  plt.plot(history.history['val_'+string])\n",
        "  \n",
        "  plt.xlabel(\"Epochs\")\n",
        "  plt.ylabel(string)\n",
        "  plt.legend([string, 'val_'+string])\n",
        "  plt.show()\n",
        "  \n",
        "plot_graphs(history, \"accuracy\")\n",
        "plot_graphs(history, \"loss\")"
      ]
    },
    {
      "cell_type": "code",
      "execution_count": null,
      "metadata": {
        "colab": {
          "base_uri": "https://localhost:8080/",
          "height": 143
        },
        "id": "w44-LFm6Rk8N",
        "outputId": "9e925cff-d162-47fa-a233-872a825662c8"
      },
      "outputs": [
        {
          "output_type": "stream",
          "name": "stdout",
          "text": [
            "[[0.5086341]]\n",
            "24889\n",
            "I have a lot of questions starting with the name which someone else clarified as being a nickname after the game show host. Next question meant in all sincerity: is he a moron?\n"
          ]
        },
        {
          "output_type": "execute_result",
          "data": {
            "text/plain": [
              "'Ravens DC Wink Martindale on Aaron Rodgers and Davante Adams: “what is is… De Niro and scorce? Scorsese? That’s like those two.” I have a lot of questions starting with the name which someone else clarified as being a nickname after the game show host. Next question meant in all sincerity: is he a moron?'"
            ],
            "application/vnd.google.colaboratory.intrinsic+json": {
              "type": "string"
            }
          },
          "metadata": {},
          "execution_count": 27
        }
      ],
      "source": [
        "sentence = [testing_sentences[0]]\n",
        "sequences = tokenizer.texts_to_sequences(sentence)  \n",
        "padded = pad_sequences(sequences, maxlen=max_length, padding=padding_type, truncating=trunc_type)\n",
        "print(model.predict(padded))\n",
        "\n",
        "len(training_sentences)\n",
        "print(len(training_sentences))\n",
        "print(cleaned.at[24889, \"Body\"])\n",
        "testing_sentences[0]"
      ]
    },
    {
      "cell_type": "code",
      "execution_count": null,
      "metadata": {
        "id": "TeQQyly359Zz"
      },
      "outputs": [],
      "source": [
        "def getVec(sentences):\n",
        "  toRet=[]\n",
        "  for i in sentences:\n",
        "    bob=[i]\n",
        "    sequences = tokenizer.texts_to_sequences(bob)  \n",
        "    padded = pad_sequences(sequences, maxlen=max_length, padding=padding_type, truncating=trunc_type)\n",
        "    x=model.predict(padded)\n",
        "    toRet.append(x)\n",
        "  return toRet\n",
        "\n",
        "#goodVec=getVec(training_sentences)\n"
      ]
    },
    {
      "cell_type": "code",
      "execution_count": null,
      "metadata": {
        "colab": {
          "background_save": true
        },
        "id": "KjL_nXrUbEgl"
      },
      "outputs": [],
      "source": [
        "betterVec=[]\n",
        "for i in goodVec:\n",
        "  betterVec.append(float(i))\n",
        "weights = pd.DataFrame (betterVec, columns = ['weight'])\n",
        "weights.to_csv(\"playoffWeights.csv\")"
      ]
    },
    {
      "cell_type": "code",
      "source": [
        "## do it all but for the playoff stuff\n",
        "!gdown --id 1upQSls8CPIyfsvrJPng4TAsbPyqXtsoN\n",
        "playoffDf = pd.read_csv(('/content/playoffPred4.csv'), dtype={\"Title\": str, \"Body\": str, \"Upvotes\": float, \"Created\": float, \"Team\": str, \"Opponent\": str, \"Winner\": str})\n",
        "\n",
        "\n"
      ],
      "metadata": {
        "colab": {
          "base_uri": "https://localhost:8080/"
        },
        "id": "yzTdAvR6eaoW",
        "outputId": "dc56c29f-2170-4f8a-cc53-064bbd466bcf"
      },
      "execution_count": null,
      "outputs": [
        {
          "output_type": "stream",
          "name": "stdout",
          "text": [
            "/usr/local/lib/python3.7/dist-packages/gdown/cli.py:131: FutureWarning: Option `--id` was deprecated in version 4.3.1 and will be removed in 5.0. You don't need to pass it anymore to use a file ID.\n",
            "  category=FutureWarning,\n",
            "Downloading...\n",
            "From: https://drive.google.com/uc?id=1upQSls8CPIyfsvrJPng4TAsbPyqXtsoN\n",
            "To: /content/playoffPred3.csv\n",
            "100% 3.85M/3.85M [00:00<00:00, 150MB/s]\n"
          ]
        }
      ]
    },
    {
      "cell_type": "code",
      "source": [
        "newCleaned=removeMisc(playoffDf)\n",
        "newCleaned=newCleaned.reset_index()\n"
      ],
      "metadata": {
        "id": "1EQUP8gLnxgl"
      },
      "execution_count": null,
      "outputs": []
    },
    {
      "cell_type": "code",
      "source": [
        "labels2=createLabels(newCleaned)\n",
        "inputs2=createInputData(newCleaned)\n"
      ],
      "metadata": {
        "colab": {
          "base_uri": "https://localhost:8080/",
          "height": 183
        },
        "id": "EXd94eRuv18S",
        "outputId": "2d3e06a3-389e-430f-c501-2e633f0c1d1c"
      },
      "execution_count": 1,
      "outputs": [
        {
          "output_type": "error",
          "ename": "NameError",
          "evalue": "ignored",
          "traceback": [
            "\u001b[0;31m---------------------------------------------------------------------------\u001b[0m",
            "\u001b[0;31mNameError\u001b[0m                                 Traceback (most recent call last)",
            "\u001b[0;32m<ipython-input-1-9567e8c828fd>\u001b[0m in \u001b[0;36m<module>\u001b[0;34m()\u001b[0m\n\u001b[0;32m----> 1\u001b[0;31m \u001b[0mlabels2\u001b[0m\u001b[0;34m=\u001b[0m\u001b[0mcreateLabels\u001b[0m\u001b[0;34m(\u001b[0m\u001b[0mnewCleaned\u001b[0m\u001b[0;34m)\u001b[0m\u001b[0;34m\u001b[0m\u001b[0;34m\u001b[0m\u001b[0m\n\u001b[0m\u001b[1;32m      2\u001b[0m \u001b[0minputs2\u001b[0m\u001b[0;34m=\u001b[0m\u001b[0mcreateInputData\u001b[0m\u001b[0;34m(\u001b[0m\u001b[0mnewCleaned\u001b[0m\u001b[0;34m)\u001b[0m\u001b[0;34m\u001b[0m\u001b[0;34m\u001b[0m\u001b[0m\n",
            "\u001b[0;31mNameError\u001b[0m: name 'createLabels' is not defined"
          ]
        }
      ]
    },
    {
      "cell_type": "code",
      "source": [
        "goodVec=getVec(inputs2)\n",
        "betterVec=[]\n",
        "for i in goodVec:\n",
        "  betterVec.append(float(i))\n",
        "weights = pd.DataFrame (betterVec, columns = ['weight'])\n",
        "weights.to_csv(\"playoffWeights.csv\")\n",
        "\n"
      ],
      "metadata": {
        "id": "sRYbtYftwJuO"
      },
      "execution_count": null,
      "outputs": []
    }
  ],
  "metadata": {
    "colab": {
      "collapsed_sections": [],
      "name": "neuralNet",
      "provenance": [],
      "mount_file_id": "1YajrJ897ypJZwJ1CKyCOO6tejsK4ZwSv",
      "authorship_tag": "ABX9TyPTG7QSQEuWn3b+rNImuUJh",
      "include_colab_link": true
    },
    "kernelspec": {
      "display_name": "Python 3",
      "name": "python3"
    },
    "language_info": {
      "name": "python"
    }
  },
  "nbformat": 4,
  "nbformat_minor": 0
}